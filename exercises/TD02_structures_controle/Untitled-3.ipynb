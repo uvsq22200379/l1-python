{
 "cells": [
  {
   "cell_type": "code",
   "execution_count": 9,
   "metadata": {},
   "outputs": [
    {
     "name": "stdout",
     "output_type": "stream",
     "text": [
      "956 420\n",
      "[420, 956]\n"
     ]
    }
   ],
   "source": [
    "import random \n",
    "m=random.randint(100,999)\n",
    "n=random.randint(100,999)\n",
    "\n",
    "print(m, n)\n",
    "\n",
    "x=[min(n,m), max(n,m)]\n",
    "\n",
    "print(x)\n",
    "\n",
    "\n"
   ]
  },
  {
   "cell_type": "code",
   "execution_count": null,
   "metadata": {},
   "outputs": [],
   "source": []
  }
 ],
 "metadata": {
  "kernelspec": {
   "display_name": "Python 3.10.4 ('l1-python')",
   "language": "python",
   "name": "python3"
  },
  "language_info": {
   "codemirror_mode": {
    "name": "ipython",
    "version": 3
   },
   "file_extension": ".py",
   "mimetype": "text/x-python",
   "name": "python",
   "nbconvert_exporter": "python",
   "pygments_lexer": "ipython3",
   "version": "3.10.4"
  },
  "orig_nbformat": 4,
  "vscode": {
   "interpreter": {
    "hash": "785c78201d2e87eb3671c98ad1585d17b62e94bbaee4718ca683d05f8a2e9159"
   }
  }
 },
 "nbformat": 4,
 "nbformat_minor": 2
}
