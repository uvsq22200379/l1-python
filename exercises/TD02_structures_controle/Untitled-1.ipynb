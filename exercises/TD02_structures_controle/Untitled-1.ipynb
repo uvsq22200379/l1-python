{
 "cells": [
  {
   "cell_type": "code",
   "execution_count": 5,
   "metadata": {},
   "outputs": [
    {
     "name": "stdout",
     "output_type": "stream",
     "text": [
      "1\n"
     ]
    }
   ],
   "source": [
    "operation=input(\"saisi une operation\")\n",
    "x=int(input(\"entier\"))\n",
    "y=int(input(\"autre entier\"))\n",
    "\n",
    "if operation==\"addition\":\n",
    "    print(x+y)\n",
    "elif operation==\"multiplication\":\n",
    "    print(x*y)\n",
    "elif operation==\"division\":\n",
    "    print(x//y)"
   ]
  },
  {
   "cell_type": "code",
   "execution_count": null,
   "metadata": {},
   "outputs": [],
   "source": []
  }
 ],
 "metadata": {
  "kernelspec": {
   "display_name": "Python 3.10.4 ('l1-python')",
   "language": "python",
   "name": "python3"
  },
  "language_info": {
   "codemirror_mode": {
    "name": "ipython",
    "version": 3
   },
   "file_extension": ".py",
   "mimetype": "text/x-python",
   "name": "python",
   "nbconvert_exporter": "python",
   "pygments_lexer": "ipython3",
   "version": "3.10.4"
  },
  "orig_nbformat": 4,
  "vscode": {
   "interpreter": {
    "hash": "785c78201d2e87eb3671c98ad1585d17b62e94bbaee4718ca683d05f8a2e9159"
   }
  }
 },
 "nbformat": 4,
 "nbformat_minor": 2
}
