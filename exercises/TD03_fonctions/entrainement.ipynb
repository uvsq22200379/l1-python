{
 "cells": [
  {
   "cell_type": "code",
   "execution_count": 24,
   "metadata": {},
   "outputs": [
    {
     "name": "stdout",
     "output_type": "stream",
     "text": [
      "la valeur max est 5\n"
     ]
    }
   ],
   "source": [
    "def max(a,b):\n",
    "\n",
    "\n",
    "    if a>b:\n",
    "        return a\n",
    "    else:\n",
    "        return b\n",
    "\n",
    "a=int(input(\"donnes un entier \"))\n",
    "b=int(input(\"donnes un deuxieme entier\"))\n",
    "\n",
    "print(\"la valeur max est\",max(a,b))"
   ]
  },
  {
   "cell_type": "code",
   "execution_count": null,
   "metadata": {},
   "outputs": [],
   "source": [
    "def add(n):\n",
    "    n+=1\n",
    "    print(n)\n",
    "    return add(n)\n",
    "\n",
    "\n",
    "n=int(input(\"donnes un nombre\"))\n",
    "\n",
    "add(n)"
   ]
  },
  {
   "cell_type": "code",
   "execution_count": 23,
   "metadata": {},
   "outputs": [
    {
     "name": "stdout",
     "output_type": "stream",
     "text": [
      "il y a  2 voyelles dans le mot ines\n"
     ]
    }
   ],
   "source": [
    "def number_voyelles(word):\n",
    "    nb_voyelles=0\n",
    "\n",
    "    for letter in word:\n",
    "        if letter in [\"a\",\"e\",\"i\",\"o\",\"u\",\"y\"]:\n",
    "            nb_voyelles+=1\n",
    "\n",
    "    return nb_voyelles\n",
    "word=input(\"donnes un mot\")\n",
    "voyelles_count=number_voyelles(word)\n",
    "\n",
    "print(\"il y a \", voyelles_count, \"voyelles dans le mot\", word)"
   ]
  },
  {
   "cell_type": "code",
   "execution_count": 27,
   "metadata": {},
   "outputs": [
    {
     "data": {
      "text/plain": [
       "(1, 'jour', 0, 'heure', 14, 'minutes', 23, 'secondes')"
      ]
     },
     "execution_count": 27,
     "metadata": {},
     "output_type": "execute_result"
    }
   ],
   "source": [
    "def afficheTemps(temps):\n",
    "    if temps[0]==1 or temps[0]==0:\n",
    "        a=\"jour\"\n",
    "    else:\n",
    "        a=\"jours\"\n",
    "\n",
    "    if temps[1]==1 or temps[1]==0:\n",
    "        b=\"heure\"\n",
    "    else:\n",
    "        b=\"heures\"\n",
    "    \n",
    "    if temps [2]==1 or temps [2]==0:\n",
    "        c=\"minute\"\n",
    "    else:\n",
    "        c=\"minutes\"\n",
    "\n",
    "    if temps[3]==1 or temps[3]==0:\n",
    "        d=\"seconde\"\n",
    "    else:\n",
    "        d=\"secondes\"\n",
    "\n",
    "    return( temps[0],a, temps[1], b, temps[2],c, temps[3],d )\n",
    "\n",
    "afficheTemps((1,0,14,23))    \n"
   ]
  },
  {
   "cell_type": "code",
   "execution_count": 31,
   "metadata": {},
   "outputs": [
    {
     "data": {
      "text/plain": [
       "('il y a ', 23, 'jours', 12, 'heures', 30, 'minutes', 56, 'secondes')"
      ]
     },
     "execution_count": 31,
     "metadata": {},
     "output_type": "execute_result"
    }
   ],
   "source": [
    "def demandeTemps():\n",
    "    jour=int(input(\"entres un nombre de jour\"))\n",
    "    heure=int(input(\"entres un nombre d'heure\"))\n",
    "    minute=int(input(\"entres un nombre de minute\"))\n",
    "    seconde=int(input(\"entres un nombre de seconde\"))\n",
    "\n",
    "    while heure>23:\n",
    "        heure=int(input(\"donnes un autre nombre d'heure\"))\n",
    "    while minute>59:\n",
    "        minute=int(input(\"donnes un autre nombre de minute\"))\n",
    "    while seconde>59:\n",
    "        seconde=int(input(\"donnes un autre nombre de seconde\"))\n",
    "\n",
    "    if jour>1:\n",
    "        a=\"jours\"\n",
    "    elif jour==0:\n",
    "        a=\"\"\n",
    "    else:\n",
    "        a=\"jour\"\n",
    "\n",
    "    if heure>1:\n",
    "        b=\"heures\"\n",
    "    elif heure==0:\n",
    "        b=\"\"\n",
    "    else:\n",
    "        b=\"heure\"\n",
    "    \n",
    "    if minute>1:\n",
    "        c=\"minutes\"\n",
    "    elif minute==0:\n",
    "        c=\"\"\n",
    "    else:\n",
    "        c=\"minute\"\n",
    "    \n",
    "    if seconde>1:\n",
    "        d=\"secondes\"\n",
    "    elif seconde==0:\n",
    "        d=\"\"\n",
    "    else:\n",
    "        d=\"seconde\"\n",
    "\n",
    "    return (\"il y a \",jour,a,heure,b,minute,c,seconde,d)\n",
    "\n",
    "demandeTemps()"
   ]
  },
  {
   "cell_type": "code",
   "execution_count": 4,
   "metadata": {},
   "outputs": [
    {
     "name": "stdout",
     "output_type": "stream",
     "text": [
      "698486\n"
     ]
    },
    {
     "data": {
      "text/plain": [
       "(7, 25, 61, 26)"
      ]
     },
     "execution_count": 4,
     "metadata": {},
     "output_type": "execute_result"
    }
   ],
   "source": [
    "def sommetemps(temps1,temps2):\n",
    "    seconde=temps1[3]+temps2[3]\n",
    "    minute=temps1[2]+temps2[2]\n",
    "    heure=temps1[1]+temps2[1]\n",
    "    jour=temps1[0]+temps2[0]\n",
    "\n",
    "    def tempSeconde(temps1,temps2):\n",
    "        return jour*86400 + heure*3600 + minute*60 + seconde\n",
    "\n",
    "    print(tempSeconde(temps1,temps2))\n",
    "    return (jour, heure, minute, seconde)   \n",
    "sommetemps((2,3,4,25),(5,22,57,1))"
   ]
  },
  {
   "cell_type": "code",
   "execution_count": 7,
   "metadata": {},
   "outputs": [
    {
     "data": {
      "text/plain": [
       "12"
      ]
     },
     "execution_count": 7,
     "metadata": {},
     "output_type": "execute_result"
    }
   ],
   "source": [
    "def bisextile(jour):\n",
    "    jour=jour//365\n",
    "    count=0\n",
    "\n",
    "    for i in range(1970, 1970+jour):\n",
    "        if i%4==0 and i%400!=0 and i%100!= 0:\n",
    "            count+=1\n",
    "    return count\n",
    "        \n",
    "bisextile(20000)"
   ]
  },
  {
   "cell_type": "code",
   "execution_count": 104,
   "metadata": {},
   "outputs": [
    {
     "name": "stdout",
     "output_type": "stream",
     "text": [
      "le resultat de l'addition est  4\n"
     ]
    }
   ],
   "source": [
    "def addition(n):\n",
    "    return n+2\n",
    "n=int(input(\"donnes un entier\"))\n",
    "print(\"le resultat de l'addition est \", addition(n))"
   ]
  },
  {
   "cell_type": "code",
   "execution_count": 105,
   "metadata": {},
   "outputs": [
    {
     "name": "stdout",
     "output_type": "stream",
     "text": [
      "le plus grand entier est 87\n"
     ]
    }
   ],
   "source": [
    "def max(x,y):\n",
    "    if x>y:\n",
    "        return x \n",
    "    else:\n",
    "        return y \n",
    "x=int(input(\"donnes un entier\"))\n",
    "y=int(input(\"donnes un autre entier\"))\n",
    "print(\"le plus grand entier est\", max(x,y))"
   ]
  },
  {
   "cell_type": "code",
   "execution_count": 106,
   "metadata": {},
   "outputs": [
    {
     "name": "stdout",
     "output_type": "stream",
     "text": [
      "il a  3 voyelles dans le mot maison\n"
     ]
    }
   ],
   "source": [
    "def nbvoyelles(word):\n",
    "    voyelles=0\n",
    "\n",
    "    for letter in word:\n",
    "        if letter in [\"a\",\"e\",\"u\",\"i\",\"o\",\"y\"]:\n",
    "            voyelles+=1\n",
    "    return voyelles\n",
    "\n",
    "word=input(\"donnes un mot\")\n",
    "voyelles_count=nbvoyelles(word)\n",
    "print(\"il a \",voyelles_count,\"voyelles dans le mot\",word)"
   ]
  },
  {
   "cell_type": "code",
   "execution_count": 109,
   "metadata": {},
   "outputs": [
    {
     "name": "stdout",
     "output_type": "stream",
     "text": [
      "[0, 1, 2, 3, 4, 5, 6, 7, 8, 9, 10, 11, 12, 13, 14, 15, 16, 17, 18, 19, 20, 21, 22, 23, 24, 25, 26, 27, 28, 29, 30, 31, 32, 33, 34, 35, 36, 37, 38, 39, 40, 41, 42, 43, 44, 45, 46, 47, 48, 49, 50, 51, 52]\n"
     ]
    }
   ],
   "source": [
    "cartes=[]\n",
    "for i in range(53):\n",
    "    cartes+=[i]\n",
    "print(cartes)"
   ]
  },
  {
   "cell_type": "code",
   "execution_count": 111,
   "metadata": {},
   "outputs": [
    {
     "name": "stdout",
     "output_type": "stream",
     "text": [
      "[0, 1, 2, 3, 4, 5, 6, 7, 8, 9, 10, 11, 12, 13, 14, 15, 16, 17, 18, 19, 20, 21, 22, 23, 24]\n",
      "[25, 26, 27, 28, 29, 30, 31, 32, 33, 34, 35, 36, 37, 38, 39, 40, 41, 42, 43, 44, 45, 46, 47, 48, 49, 50, 51, 52]\n"
     ]
    }
   ],
   "source": [
    "\n",
    "import random\n",
    "for i in range(random.randint(1,53)):\n",
    "    cartes1=cartes[:i]\n",
    "    cartes2=cartes[i:]\n",
    "\n",
    "print(cartes1)\n",
    "print(cartes2)"
   ]
  },
  {
   "cell_type": "code",
   "execution_count": 115,
   "metadata": {},
   "outputs": [
    {
     "name": "stdout",
     "output_type": "stream",
     "text": [
      "[0, 1, 2, 3, 4, 5, 6, 7, 8, 9, 10, 11, 12, 13, 14, 15, 16, 17, 18, 19, 20, 21, 22, 23, 24, 25, 26, 27, 28, 29, 30, 31, 32, 33, 34, 35, 36, 37, 38, 39, 40, 41, 42, 43, 44, 45, 46, 47, 48, 49, 50, 51, 52]\n",
      "[0, 2, 4, 6, 8, 10, 12, 14, 16, 18, 20, 22, 24, 26, 28, 30, 32, 34, 36, 38, 40, 42, 44, 46, 48, 50, 52]\n",
      "[1, 3, 5, 7, 9, 11, 13, 15, 17, 19, 21, 23, 25, 27, 29, 31, 33, 35, 37, 39, 41, 43, 45, 47, 49, 51]\n"
     ]
    }
   ],
   "source": [
    "liste=[]\n",
    "\n",
    "for i in range(53):\n",
    "    liste+=[i]\n",
    "print(liste)\n",
    "\n",
    "pair=[]\n",
    "impair=[]\n",
    "\n",
    "for i in range(len(liste)):\n",
    "    if liste[i]%2==0:\n",
    "        pair+=[liste[i]]\n",
    "    else:\n",
    "        impair+=[liste[i]]\n",
    "\n",
    "print(pair)\n",
    "print(impair)\n"
   ]
  },
  {
   "cell_type": "code",
   "execution_count": 132,
   "metadata": {},
   "outputs": [
    {
     "name": "stdout",
     "output_type": "stream",
     "text": [
      "[96, 78, 56, 46, 50]\n"
     ]
    }
   ],
   "source": [
    "import random\n",
    "\n",
    "\n",
    "def lettres(n):\n",
    "    abcd=[]\n",
    "    for i in range(n):\n",
    "        abcd.append(random.randint(1,99))\n",
    "    return abcd\n",
    "\n",
    "n=int(input(\"donnes un entier\"))\n",
    "\n",
    "print(lettres(n))\n"
   ]
  },
  {
   "cell_type": "code",
   "execution_count": null,
   "metadata": {},
   "outputs": [],
   "source": [
    "villes=[\"london\",\"paris\",\"tokyo\",\"seoul\"]\n",
    "lv = []\n",
    "\n",
    "for i in range(len(villes)):\n",
    "    lv.append(len(villes[i]))\n",
    "print(max(lv), villes[lv.index(max(lv))])"
   ]
  }
 ],
 "metadata": {
  "kernelspec": {
   "display_name": "Python 3.10.4 ('l1-python')",
   "language": "python",
   "name": "python3"
  },
  "language_info": {
   "codemirror_mode": {
    "name": "ipython",
    "version": 3
   },
   "file_extension": ".py",
   "mimetype": "text/x-python",
   "name": "python",
   "nbconvert_exporter": "python",
   "pygments_lexer": "ipython3",
   "version": "3.10.4"
  },
  "orig_nbformat": 4,
  "vscode": {
   "interpreter": {
    "hash": "785c78201d2e87eb3671c98ad1585d17b62e94bbaee4718ca683d05f8a2e9159"
   }
  }
 },
 "nbformat": 4,
 "nbformat_minor": 2
}
